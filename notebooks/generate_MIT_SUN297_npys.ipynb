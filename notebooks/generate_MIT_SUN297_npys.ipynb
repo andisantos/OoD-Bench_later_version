{
 "cells": [
  {
   "cell_type": "code",
   "execution_count": 1,
   "metadata": {},
   "outputs": [
    {
     "name": "stdout",
     "output_type": "stream",
     "text": [
      "Requirement already satisfied: pandas in /usr/lib/python3/dist-packages\r\n"
     ]
    }
   ],
   "source": [
    "! pip3 install pandas"
   ]
  },
  {
   "cell_type": "code",
   "execution_count": 2,
   "metadata": {},
   "outputs": [],
   "source": [
    "import os\n",
    "import pandas as pd\n",
    "import glob\n",
    "import numpy as np\n",
    "import random\n",
    "\n",
    "random.seed(42)"
   ]
  },
  {
   "cell_type": "code",
   "execution_count": 3,
   "metadata": {},
   "outputs": [],
   "source": [
    "base_MIT = \"/hadatasets/andreza/SceneDatasets/MIT_Indoors_8/\"\n",
    "base_SUN = \"/hadatasets/andreza/SceneDatasets/SUN397_8/\"\n",
    "classes = [\"bathroom\", \"bedroom\", \"childs_room\",\n",
    "           \"classroom\", \"dressing_room\", \"living_room\",\n",
    "           \"studio\", \"swimming_pool\"]"
   ]
  },
  {
   "cell_type": "code",
   "execution_count": 4,
   "metadata": {},
   "outputs": [
    {
     "name": "stdout",
     "output_type": "stream",
     "text": [
      "bathroom /hadatasets/andreza/SceneDatasets/MIT_Indoors_8/bathroom\n",
      "bedroom /hadatasets/andreza/SceneDatasets/MIT_Indoors_8/bedroom\n",
      "childs_room /hadatasets/andreza/SceneDatasets/MIT_Indoors_8/childs_room\n",
      "classroom /hadatasets/andreza/SceneDatasets/MIT_Indoors_8/classroom\n",
      "dressing_room /hadatasets/andreza/SceneDatasets/MIT_Indoors_8/dressing_room\n",
      "living_room /hadatasets/andreza/SceneDatasets/MIT_Indoors_8/living_room\n",
      "studio /hadatasets/andreza/SceneDatasets/MIT_Indoors_8/studio\n",
      "swimming_pool /hadatasets/andreza/SceneDatasets/MIT_Indoors_8/swimming_pool\n"
     ]
    }
   ],
   "source": [
    "# MIT_Indoors\n",
    "MIT_dict = {\"file_path\": [], \"label\": [], \"path_and_label\": []}\n",
    "\n",
    "for class_name in classes:\n",
    "    path = os.path.join(base_MIT, class_name)\n",
    "    print(class_name, path)\n",
    "    files = glob.glob(path+\"/*\")\n",
    "    for file in files:\n",
    "        MIT_dict[\"file_path\"].append(file)\n",
    "        MIT_dict[\"label\"].append(class_name)\n",
    "        MIT_dict[\"path_and_label\"].append([file, class_name])\n",
    "\n",
    "np.save(\"MIT_Indoors_samples_paths_complete.npy\", np.asarray(MIT_dict[\"file_path\"]))\n",
    "np.save(\"MIT_Indoors_samples_labels_complete.npy\", np.asarray(MIT_dict[\"label\"]))\n",
    "np.save(\"MIT_Indoors_samples_paths_and_labels_complete.npy\", np.asarray(MIT_dict[\"path_and_label\"]))\n"
   ]
  },
  {
   "cell_type": "code",
   "execution_count": 5,
   "metadata": {},
   "outputs": [
    {
     "name": "stdout",
     "output_type": "stream",
     "text": [
      "bathroom /hadatasets/andreza/SceneDatasets/SUN397_8/bathroom\n",
      "bedroom /hadatasets/andreza/SceneDatasets/SUN397_8/bedroom\n",
      "childs_room /hadatasets/andreza/SceneDatasets/SUN397_8/childs_room\n",
      "classroom /hadatasets/andreza/SceneDatasets/SUN397_8/classroom\n",
      "dressing_room /hadatasets/andreza/SceneDatasets/SUN397_8/dressing_room\n",
      "living_room /hadatasets/andreza/SceneDatasets/SUN397_8/living_room\n",
      "studio /hadatasets/andreza/SceneDatasets/SUN397_8/studio\n",
      "swimming_pool /hadatasets/andreza/SceneDatasets/SUN397_8/swimming_pool\n"
     ]
    }
   ],
   "source": [
    "# SUN_Indoors\n",
    "SUN_dict = {\"file_path\": [], \"label\": [], \"path_and_label\": []}\n",
    "\n",
    "for class_name in classes:\n",
    "    path = os.path.join(base_SUN, class_name)\n",
    "    print(class_name, path)\n",
    "    path = path+\"/*\"\n",
    "    files = glob.glob(path)\n",
    "    for file in files:\n",
    "        SUN_dict[\"file_path\"].append(file)\n",
    "        SUN_dict[\"label\"].append(class_name)\n",
    "        SUN_dict[\"path_and_label\"].append([file, class_name])\n",
    "\n",
    "np.save(\"SUN397_Indoors_samples_paths_complete.npy\", np.asarray(SUN_dict[\"file_path\"]))\n",
    "np.save(\"SUN397_Indoors_samples_labels_complete.npy\", np.asarray(SUN_dict[\"label\"]))\n",
    "np.save(\"SUN397_Indoors_samples_paths_and_labels_complete.npy\", np.asarray(SUN_dict[\"path_and_label\"]))\n"
   ]
  },
  {
   "cell_type": "code",
   "execution_count": null,
   "metadata": {},
   "outputs": [],
   "source": []
  },
  {
   "cell_type": "markdown",
   "metadata": {},
   "source": [
    "# Generate randomized SUN splits\n",
    "\n",
    "All environments should be the same size for OoD-benchmark execution.\n",
    "- MIT Indoors has 2535 samples\n",
    "- SUN397 has 9285 samples\n",
    "\n",
    "SUN397 dataset will be splitted at random, selecting the amount of MIT samples for each class "
   ]
  },
  {
   "cell_type": "code",
   "execution_count": 7,
   "metadata": {},
   "outputs": [
    {
     "name": "stdout",
     "output_type": "stream",
     "text": [
      "MIT labels, counts {'bathroom': 197, 'bedroom': 662, 'childs_room': 256, 'classroom': 240, 'dressing_room': 135, 'living_room': 706, 'studio': 165, 'swimming_pool': 174}\n",
      "\n",
      "SUN labels, counts {'bathroom': 951, 'bedroom': 2879, 'childs_room': 1551, 'classroom': 561, 'dressing_room': 300, 'living_room': 2479, 'studio': 197, 'swimming_pool': 367}\n"
     ]
    }
   ],
   "source": [
    "mit_labels = np.load(\"MIT_Indoors_samples_labels_complete.npy\")\n",
    "mit_img_paths = np.load(\"MIT_Indoors_samples_paths_complete.npy\")\n",
    "\n",
    "sun_labels = np.load(\"SUN397_Indoors_samples_labels_complete.npy\")\n",
    "sun_img_paths_labels = np.load(\"SUN397_Indoors_samples_paths_and_labels_complete.npy\")\n",
    "\n",
    "labels, counts = np.unique(mit_labels, return_counts=True)\n",
    "mit_dict_count = dict(zip(labels,counts))\n",
    "print(\"MIT labels, counts\", mit_dict_count )\n",
    "print()\n",
    "labels, counts = np.unique(sun_labels, return_counts=True)\n",
    "print(\"SUN labels, counts\", dict(zip(labels,counts)))"
   ]
  },
  {
   "cell_type": "code",
   "execution_count": 8,
   "metadata": {},
   "outputs": [
    {
     "data": {
      "text/plain": [
       "{'bathroom': 197,\n",
       " 'bedroom': 662,\n",
       " 'childs_room': 256,\n",
       " 'classroom': 240,\n",
       " 'dressing_room': 135,\n",
       " 'living_room': 706,\n",
       " 'studio': 165,\n",
       " 'swimming_pool': 174}"
      ]
     },
     "execution_count": 8,
     "metadata": {},
     "output_type": "execute_result"
    }
   ],
   "source": [
    "mit_dict_count"
   ]
  },
  {
   "cell_type": "code",
   "execution_count": 12,
   "metadata": {},
   "outputs": [
    {
     "name": "stdout",
     "output_type": "stream",
     "text": [
      "0 42\n",
      "1 666\n"
     ]
    }
   ],
   "source": [
    "# select SUN samples to form a split\n",
    "save_infos = {\n",
    "    \"seeds\": [42, 666],\n",
    "    \"save_paths\": [\"SUN397_Indoors_samples_split_seed42.npy\", \"SUN397_Indoors_samples_split_seed666.npy\"]}\n",
    "\n",
    "for idx, seed in enumerate(save_infos['seeds']):\n",
    "    print(idx, seed)\n",
    "    random.seed(seed)\n",
    "    selected_indexes = []\n",
    "    for classe in mit_dict_count.keys():\n",
    "#         print(classe)\n",
    "        sun_classe_labels = np.where(sun_labels==classe)\n",
    "        selected_indexes += random.sample(list(sun_classe_labels[0]), k=mit_dict_count[classe])\n",
    "#         print(len(selected_indexes))\n",
    "\n",
    "    selected_indexes.sort()\n",
    "    split_sun_img_paths = sun_img_paths_labels[selected_indexes]\n",
    "    np.save(save_infos[\"save_paths\"][idx], np.asarray(split_sun_img_paths))\n"
   ]
  },
  {
   "cell_type": "code",
   "execution_count": 3,
   "metadata": {},
   "outputs": [
    {
     "data": {
      "text/plain": [
       "array([['/hadatasets/andreza/SceneDatasets/MIT_Indoors_8/bathroom/n190011.jpg',\n",
       "        'bathroom'],\n",
       "       ['/hadatasets/andreza/SceneDatasets/MIT_Indoors_8/bathroom/dscn2018.jpg',\n",
       "        'bathroom'],\n",
       "       [ '/hadatasets/andreza/SceneDatasets/MIT_Indoors_8/bathroom/indoor_0368.jpg',\n",
       "        'bathroom'],\n",
       "       ..., \n",
       "       [ '/hadatasets/andreza/SceneDatasets/MIT_Indoors_8/swimming_pool/piscina_cubierta_03_03_altavista.jpg',\n",
       "        'swimming_pool'],\n",
       "       [ '/hadatasets/andreza/SceneDatasets/MIT_Indoors_8/swimming_pool/apartment_schwimmbad.jpg',\n",
       "        'swimming_pool'],\n",
       "       [ '/hadatasets/andreza/SceneDatasets/MIT_Indoors_8/swimming_pool/P1050218.jpg',\n",
       "        'swimming_pool']],\n",
       "      dtype='<U140')"
      ]
     },
     "execution_count": 3,
     "metadata": {},
     "output_type": "execute_result"
    }
   ],
   "source": [
    "np.load('MIT_Indoors_samples_paths_and_labels_complete.npy')"
   ]
  },
  {
   "cell_type": "code",
   "execution_count": 5,
   "metadata": {},
   "outputs": [],
   "source": [
    "x = np.load(\"SUN397_Indoors_samples_split_seed42.npy\")"
   ]
  }
 ],
 "metadata": {
  "kernelspec": {
   "display_name": "Python 3 (ipykernel)",
   "language": "python",
   "name": "python3"
  },
  "language_info": {
   "codemirror_mode": {
    "name": "ipython",
    "version": 3
   },
   "file_extension": ".py",
   "mimetype": "text/x-python",
   "name": "python",
   "nbconvert_exporter": "python",
   "pygments_lexer": "ipython3",
   "version": "3.10.10"
  }
 },
 "nbformat": 4,
 "nbformat_minor": 2
}
