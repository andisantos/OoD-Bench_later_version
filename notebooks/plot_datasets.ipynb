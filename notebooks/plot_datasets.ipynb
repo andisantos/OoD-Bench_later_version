{
 "cells": [
  {
   "cell_type": "code",
   "execution_count": 1,
   "id": "a16324b2",
   "metadata": {},
   "outputs": [
    {
     "name": "stdout",
     "output_type": "stream",
     "text": [
      "Requirement already satisfied: scikit-image in /root/miniconda3/lib/python3.7/site-packages (0.19.3)\n",
      "Requirement already satisfied: pillow!=7.1.0,!=7.1.1,!=8.3.0,>=6.1.0 in /root/miniconda3/lib/python3.7/site-packages (from scikit-image) (9.3.0)\n",
      "Requirement already satisfied: PyWavelets>=1.1.1 in /root/miniconda3/lib/python3.7/site-packages (from scikit-image) (1.3.0)\n",
      "Requirement already satisfied: packaging>=20.0 in /root/miniconda3/lib/python3.7/site-packages (from scikit-image) (22.0)\n",
      "Requirement already satisfied: networkx>=2.2 in /root/miniconda3/lib/python3.7/site-packages (from scikit-image) (2.6.3)\n",
      "Requirement already satisfied: tifffile>=2019.7.26 in /root/miniconda3/lib/python3.7/site-packages (from scikit-image) (2021.11.2)\n",
      "Requirement already satisfied: numpy>=1.17.0 in /root/miniconda3/lib/python3.7/site-packages (from scikit-image) (1.21.5)\n",
      "Requirement already satisfied: scipy>=1.4.1 in /root/miniconda3/lib/python3.7/site-packages (from scikit-image) (1.7.3)\n",
      "Requirement already satisfied: imageio>=2.4.1 in /root/miniconda3/lib/python3.7/site-packages (from scikit-image) (2.31.1)\n",
      "\u001b[33mWARNING: Running pip as the 'root' user can result in broken permissions and conflicting behaviour with the system package manager. It is recommended to use a virtual environment instead: https://pip.pypa.io/warnings/venv\u001b[0m\u001b[33m\n",
      "\u001b[0m"
     ]
    }
   ],
   "source": [
    "!pip3 install scikit-image"
   ]
  },
  {
   "cell_type": "code",
   "execution_count": 1,
   "id": "b9e69029",
   "metadata": {},
   "outputs": [],
   "source": [
    "from PIL import Image\n",
    "import numpy as np\n",
    "import pandas as pd\n",
    "from skimage import io\n",
    "\n",
    "# npys with image paths ex: array(['/../../imgpath1.jpg', '/../../imgpath2.jpg',...])\n",
    "mit_path = np.load(\"MIT_Indoors_samples_paths_complete.npy\")\n",
    "sun_path = np.load(\"SUN397_Indoors_samples_paths_complete.npy\")\n",
    "img_size = 128"
   ]
  },
  {
   "cell_type": "code",
   "execution_count": 3,
   "id": "14b8ad83",
   "metadata": {},
   "outputs": [],
   "source": [
    "def img_reshape(img):\n",
    "    img = Image.open(img).convert('RGB')\n",
    "    img = img.resize((img_size, img_size))\n",
    "    img = np.asarray(img)\n",
    "    return img\n",
    "\n",
    "def img_list_to_df(img_list: list, nome_imagem: list):\n",
    "    num_images= len(img_list)\n",
    "    img_arr_1d = []\n",
    "    for c in range(num_images):\n",
    "        # image 2d to 1d\n",
    "        img_arr_1d.append(img_list[c].flatten())\n",
    "    print(\"Num images 1d: \", len(img_arr_1d))\n",
    "    print(\"Image 1d shape: \", img_arr_1d[0].shape)\n",
    "    x_img = []\n",
    "\n",
    "    # array 1d to list\n",
    "    for c in range(num_images):\n",
    "        x_img.append(img_arr_1d[c].tolist()) \n",
    "\n",
    "    # df with 1d images\n",
    "    tam_colum = len(img_arr_1d[0])\n",
    "    nome_colum = []\n",
    "    for c in range(tam_colum):\n",
    "        colum = 'pixel ' + str(c)\n",
    "        nome_colum.append(colum)\n",
    "    df = pd.DataFrame(x_img, columns= nome_colum)\n",
    "    df.insert(loc = 0, column = 'image', value = nome_imagem)\n",
    "    return df\n",
    "\n",
    "def df_to_img_mosaic(df, save_img_name):\n",
    "    x_data = df.iloc[0:,1:] #remove image name column\n",
    "\n",
    "    #converte dataframe para vetor\n",
    "    x_data = x_data.to_numpy()\n",
    "    # calculate how many rows and columns we need (round up)\n",
    "    cols = int(np.ceil(np.sqrt(x_data.shape[0])))\n",
    "    rows = int(np.ceil(x_data.shape[0] * 1. / cols))\n",
    "    im_w = im_h = img_size\n",
    "    num_images = x_data.shape[0]\n",
    "\n",
    "    X = np.reshape(x_data, (num_images, im_h, im_w, 3))\n",
    "\n",
    "    if cols != rows:\n",
    "        dif = cols - rows\n",
    "        if cols > rows:\n",
    "            rows = int(np.ceil((x_data.shape[0] * 1. / cols)+ dif))\n",
    "        else:\n",
    "            cols = int(np.ceil(np.sqrt((x_data.shape[0])+ dif))) \n",
    "    mosaic = np.zeros((rows * im_h, cols * im_w,3), dtype=np.uint8)\n",
    "\n",
    "    for row in range(rows):\n",
    "        for col in range(cols):\n",
    "            im_index = col * rows + row\n",
    "            if im_index < num_images:\n",
    "                mosaic[col * im_h:(col+1) * im_h, row * im_w:(row+1) * im_w] = X[im_index, :, :]\n",
    "\n",
    "    # write mosaic image to disk\n",
    "    io.imsave(save_img_name, mosaic)"
   ]
  },
  {
   "cell_type": "code",
   "execution_count": 4,
   "id": "bdfb7385",
   "metadata": {},
   "outputs": [
    {
     "name": "stdout",
     "output_type": "stream",
     "text": [
      "Image shapes:  (128, 128, 3)\n",
      "Num images 1d:  2535\n",
      "Image 1d shape:  (49152,)\n"
     ]
    }
   ],
   "source": [
    "# MIT dataset\n",
    "img_names = []\n",
    "img_arr = []\n",
    "for image in mit_path:\n",
    "    img_arr.append(img_reshape(image))\n",
    "    img_names.append(image)\n",
    "print(\"Image shapes: \", img_arr[0].shape)\n",
    "\n",
    "df = img_list_to_df(img_arr, img_names)\n",
    "df_to_img_mosaic(df, \"dataset_mit_mosaic.png\")"
   ]
  },
  {
   "cell_type": "code",
   "execution_count": 5,
   "id": "8b221d21",
   "metadata": {},
   "outputs": [
    {
     "name": "stdout",
     "output_type": "stream",
     "text": [
      "Image shapes:  (128, 128, 3)\n",
      "Num images 1d:  9285\n",
      "Image 1d shape:  (49152,)\n"
     ]
    }
   ],
   "source": [
    "# SUN dataset\n",
    "img_names = []\n",
    "img_arr = []\n",
    "for image in sun_path:\n",
    "    img_arr.append(img_reshape(image))\n",
    "    img_names.append(image)\n",
    "print(\"Image shapes: \", img_arr[0].shape)\n",
    "\n",
    "df = img_list_to_df(img_arr, img_names)\n",
    "df_to_img_mosaic(df, \"dataset_sun_mosaic.png\")"
   ]
  }
 ],
 "metadata": {
  "kernelspec": {
   "display_name": "Python 3 (ipykernel)",
   "language": "python",
   "name": "python3"
  },
  "language_info": {
   "codemirror_mode": {
    "name": "ipython",
    "version": 3
   },
   "file_extension": ".py",
   "mimetype": "text/x-python",
   "name": "python",
   "nbconvert_exporter": "python",
   "pygments_lexer": "ipython3",
   "version": "3.7.16"
  }
 },
 "nbformat": 4,
 "nbformat_minor": 5
}
