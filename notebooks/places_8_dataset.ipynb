{
 "cells": [
  {
   "cell_type": "code",
   "execution_count": 17,
   "metadata": {},
   "outputs": [],
   "source": [
    "import numpy as np"
   ]
  },
  {
   "cell_type": "code",
   "execution_count": 18,
   "metadata": {},
   "outputs": [],
   "source": [
    "train_img_npy = \"/hadatasets/places/filelists/places.8/train_images.npy\"\n",
    "train_labels_npy = \"/hadatasets/places/filelists/places.8/train_labels.npy\"\n",
    "\n",
    "val_img_npy = \"/hadatasets/places/filelists/places.8/val_images.npy\"\n",
    "val_labels_npy = \"/hadatasets/places/filelists/places.8/val_labels.npy\"\n",
    "\n",
    "test_img_npy = \"/hadatasets/places/filelists/places.8/test_images.npy\"\n",
    "test_labels_npy = \"/hadatasets/places/filelists/places.8/test_labels.npy\""
   ]
  },
  {
   "cell_type": "code",
   "execution_count": 19,
   "metadata": {},
   "outputs": [],
   "source": [
    "new_base_path = \"/hadatasets/places/data_256/\"\n",
    "classes = [\"bathroom\", \"bedroom\", \"childs_room\",\n",
    "           \"classroom\", \"dressing_room\", \"living_room\",\n",
    "           \"studio\", \"swimming_pool\"]"
   ]
  },
  {
   "cell_type": "markdown",
   "metadata": {},
   "source": [
    "## Train images and labels"
   ]
  },
  {
   "cell_type": "code",
   "execution_count": 20,
   "metadata": {},
   "outputs": [
    {
     "data": {
      "text/plain": [
       "array(['/home/pvaloi/work/datasets/places/data_256/a/alcove/00000001.jpg',\n",
       "       '/home/pvaloi/work/datasets/places/data_256/a/alcove/00000002.jpg',\n",
       "       '/home/pvaloi/work/datasets/places/data_256/a/alcove/00000003.jpg',\n",
       "       ...,\n",
       "       '/home/pvaloi/work/datasets/places/data_256/y/youth_hostel/00006590.jpg',\n",
       "       '/home/pvaloi/work/datasets/places/data_256/y/youth_hostel/00006592.jpg',\n",
       "       '/home/pvaloi/work/datasets/places/data_256/y/youth_hostel/00006594.jpg'],\n",
       "      dtype='<U80')"
      ]
     },
     "execution_count": 20,
     "metadata": {},
     "output_type": "execute_result"
    }
   ],
   "source": [
    "train_imgs = np.load(train_img_npy)\n",
    "train_imgs"
   ]
  },
  {
   "cell_type": "code",
   "execution_count": 21,
   "metadata": {},
   "outputs": [
    {
     "ename": "NameError",
     "evalue": "name 'home' is not defined",
     "output_type": "error",
     "traceback": [
      "\u001b[0;31m---------------------------------------------------------------------------\u001b[0m",
      "\u001b[0;31mNameError\u001b[0m                                 Traceback (most recent call last)",
      "Cell \u001b[0;32mIn[21], line 1\u001b[0m\n\u001b[0;32m----> 1\u001b[0m \u001b[43mhome\u001b[49m\u001b[38;5;241m/\u001b[39mpvaloi\u001b[38;5;241m/\u001b[39mwork()\n",
      "\u001b[0;31mNameError\u001b[0m: name 'home' is not defined"
     ]
    }
   ],
   "source": [
    "'/home/pvaloi/work/datasets'"
   ]
  },
  {
   "cell_type": "code",
   "execution_count": 22,
   "metadata": {},
   "outputs": [
    {
     "data": {
      "text/plain": [
       "386029"
      ]
     },
     "execution_count": 22,
     "metadata": {},
     "output_type": "execute_result"
    }
   ],
   "source": [
    "train_imgs.size"
   ]
  },
  {
   "cell_type": "code",
   "execution_count": 23,
   "metadata": {},
   "outputs": [
    {
     "data": {
      "text/plain": [
       "array(['living_room', 'living_room', 'living_room', ..., 'bedroom',\n",
       "       'bedroom', 'bedroom'], dtype='<U13')"
      ]
     },
     "execution_count": 23,
     "metadata": {},
     "output_type": "execute_result"
    }
   ],
   "source": [
    "train_labels = np.load(train_labels_npy)\n",
    "train_labels"
   ]
  },
  {
   "cell_type": "code",
   "execution_count": 24,
   "metadata": {},
   "outputs": [
    {
     "data": {
      "text/plain": [
       "386029"
      ]
     },
     "execution_count": 24,
     "metadata": {},
     "output_type": "execute_result"
    }
   ],
   "source": [
    "train_labels.size"
   ]
  },
  {
   "cell_type": "code",
   "execution_count": 25,
   "metadata": {},
   "outputs": [
    {
     "data": {
      "text/plain": [
       "{'bathroom': 51655,\n",
       " 'bedroom': 100012,\n",
       " 'childs_room': 41849,\n",
       " 'classroom': 33763,\n",
       " 'dressing_room': 21889,\n",
       " 'living_room': 110681,\n",
       " 'studio': 12633,\n",
       " 'swimming_pool': 13547}"
      ]
     },
     "execution_count": 25,
     "metadata": {},
     "output_type": "execute_result"
    }
   ],
   "source": [
    "labels, counts = np.unique(train_labels, return_counts=True)\n",
    "dict(zip(labels, counts))"
   ]
  },
  {
   "cell_type": "markdown",
   "metadata": {},
   "source": [
    "## Val images and labels"
   ]
  },
  {
   "cell_type": "code",
   "execution_count": null,
   "metadata": {},
   "outputs": [],
   "source": [
    "val_imgs = np.load(val_img_npy)\n",
    "val_imgs"
   ]
  },
  {
   "cell_type": "code",
   "execution_count": null,
   "metadata": {},
   "outputs": [],
   "source": [
    "val_imgs.size"
   ]
  },
  {
   "cell_type": "code",
   "execution_count": null,
   "metadata": {},
   "outputs": [],
   "source": [
    "val_labels = np.load(val_labels_npy)\n",
    "val_labels"
   ]
  },
  {
   "cell_type": "code",
   "execution_count": null,
   "metadata": {},
   "outputs": [],
   "source": [
    "val_labels.size"
   ]
  },
  {
   "cell_type": "code",
   "execution_count": null,
   "metadata": {},
   "outputs": [],
   "source": [
    "labels, counts = np.unique(val_labels, return_counts=True)\n",
    "dict(zip(labels, counts))"
   ]
  },
  {
   "cell_type": "markdown",
   "metadata": {},
   "source": [
    "## Test images and labels"
   ]
  },
  {
   "cell_type": "code",
   "execution_count": null,
   "metadata": {},
   "outputs": [],
   "source": [
    "test_imgs = np.load(test_img_npy)\n",
    "test_imgs"
   ]
  },
  {
   "cell_type": "code",
   "execution_count": null,
   "metadata": {},
   "outputs": [],
   "source": [
    "test_imgs.size"
   ]
  },
  {
   "cell_type": "code",
   "execution_count": null,
   "metadata": {},
   "outputs": [],
   "source": [
    "test_labels = np.load(test_labels_npy)\n",
    "test_labels"
   ]
  },
  {
   "cell_type": "code",
   "execution_count": null,
   "metadata": {},
   "outputs": [],
   "source": [
    "test_labels.size"
   ]
  },
  {
   "cell_type": "code",
   "execution_count": null,
   "metadata": {},
   "outputs": [],
   "source": [
    "labels, counts = np.unique(test_labels, return_counts=True)\n",
    "dict(zip(labels, counts))"
   ]
  },
  {
   "cell_type": "markdown",
   "metadata": {},
   "source": [
    "## REMOVING ALCOVE CLASS"
   ]
  },
  {
   "cell_type": "markdown",
   "metadata": {},
   "source": [
    "### Train data"
   ]
  },
  {
   "cell_type": "code",
   "execution_count": 26,
   "metadata": {},
   "outputs": [
    {
     "data": {
      "text/plain": [
       "array(['/home/pvaloi/work/datasets/places/data_256/a/alcove/00000001.jpg',\n",
       "       '/home/pvaloi/work/datasets/places/data_256/a/alcove/00000002.jpg',\n",
       "       '/home/pvaloi/work/datasets/places/data_256/a/alcove/00000003.jpg',\n",
       "       ...,\n",
       "       '/home/pvaloi/work/datasets/places/data_256/y/youth_hostel/00006590.jpg',\n",
       "       '/home/pvaloi/work/datasets/places/data_256/y/youth_hostel/00006592.jpg',\n",
       "       '/home/pvaloi/work/datasets/places/data_256/y/youth_hostel/00006594.jpg'],\n",
       "      dtype='<U80')"
      ]
     },
     "execution_count": 26,
     "metadata": {},
     "output_type": "execute_result"
    }
   ],
   "source": [
    "train_imgs.sort()\n",
    "train_labels.sort()\n",
    "train_imgs"
   ]
  },
  {
   "cell_type": "code",
   "execution_count": 27,
   "metadata": {},
   "outputs": [],
   "source": [
    "count = 0\n",
    "for idx, path in enumerate(train_imgs):\n",
    "    if \"alcove\" in path:\n",
    "        count += 1\n",
    "    else:\n",
    "        break"
   ]
  },
  {
   "cell_type": "code",
   "execution_count": 28,
   "metadata": {},
   "outputs": [
    {
     "data": {
      "text/plain": [
       "364782"
      ]
     },
     "execution_count": 28,
     "metadata": {},
     "output_type": "execute_result"
    }
   ],
   "source": [
    "new_train_imgs = train_imgs[idx:]\n",
    "new_train_imgs.size"
   ]
  },
  {
   "cell_type": "code",
   "execution_count": 29,
   "metadata": {},
   "outputs": [
    {
     "data": {
      "text/plain": [
       "364782"
      ]
     },
     "execution_count": 29,
     "metadata": {},
     "output_type": "execute_result"
    }
   ],
   "source": [
    "new_train_labels = train_labels[idx:]\n",
    "new_train_labels.size"
   ]
  },
  {
   "cell_type": "code",
   "execution_count": 30,
   "metadata": {},
   "outputs": [
    {
     "data": {
      "text/plain": [
       "{'bathroom': 30408,\n",
       " 'bedroom': 100012,\n",
       " 'childs_room': 41849,\n",
       " 'classroom': 33763,\n",
       " 'dressing_room': 21889,\n",
       " 'living_room': 110681,\n",
       " 'studio': 12633,\n",
       " 'swimming_pool': 13547}"
      ]
     },
     "execution_count": 30,
     "metadata": {},
     "output_type": "execute_result"
    }
   ],
   "source": [
    "labels, counts = np.unique(new_train_labels, return_counts=True)\n",
    "dict(zip(labels, counts))"
   ]
  },
  {
   "cell_type": "markdown",
   "metadata": {},
   "source": [
    "### Test data"
   ]
  },
  {
   "cell_type": "code",
   "execution_count": null,
   "metadata": {},
   "outputs": [],
   "source": [
    "test_imgs.sort()\n",
    "test_labels.sort()\n",
    "test_imgs"
   ]
  },
  {
   "cell_type": "code",
   "execution_count": null,
   "metadata": {},
   "outputs": [],
   "source": [
    "count = 0\n",
    "for idx, path in enumerate(test_imgs):\n",
    "    if \"alcove\" in path:\n",
    "        count += 1\n",
    "    else:\n",
    "        break"
   ]
  },
  {
   "cell_type": "code",
   "execution_count": null,
   "metadata": {},
   "outputs": [],
   "source": [
    "new_test_imgs = test_imgs[count:]\n",
    "new_test_imgs.size"
   ]
  },
  {
   "cell_type": "code",
   "execution_count": null,
   "metadata": {},
   "outputs": [],
   "source": [
    "new_test_labels = test_labels[count:]\n",
    "new_test_labels.size"
   ]
  },
  {
   "cell_type": "code",
   "execution_count": null,
   "metadata": {},
   "outputs": [],
   "source": [
    "labels, counts = np.unique(new_test_labels, return_counts=True)\n",
    "dict(zip(labels, counts))"
   ]
  },
  {
   "cell_type": "markdown",
   "metadata": {},
   "source": [
    "## Create npy with [path, classe]"
   ]
  },
  {
   "cell_type": "code",
   "execution_count": null,
   "metadata": {},
   "outputs": [],
   "source": [
    "Places8_dict = {\"file_path\": [], \"label\": [], \"path_and_label\": []}\n",
    "\n",
    "for idx, img_path in enumerate(new_train_imgs):\n",
    "    new_img_path = new_base_path + img_path[17:]\n",
    "    \n",
    "    Places8_dict[\"file_path\"].append(new_img_path)\n",
    "    Places8_dict[\"label\"].append(new_train_labels[idx])\n",
    "    Places8_dict[\"path_and_label\"].append([new_img_path, new_train_labels[idx]])\n",
    "\n",
    "np.save(\"Places8_paths_complete_train.npy\", np.asarray(Places8_dict[\"file_path\"]))\n",
    "np.save(\"Places8_labels_complete_train.npy\", np.asarray(Places8_dict[\"label\"]))\n",
    "np.save(\"Places8_paths_and_labels_complete_train.npy\", np.asarray(Places8_dict[\"path_and_label\"]))"
   ]
  },
  {
   "cell_type": "code",
   "execution_count": null,
   "metadata": {},
   "outputs": [],
   "source": [
    "sanity_check = np.load(\"Places8_paths_and_labels_complete_train.npy\")\n",
    "sanity_check"
   ]
  },
  {
   "cell_type": "code",
   "execution_count": null,
   "metadata": {},
   "outputs": [],
   "source": [
    "labels, counts = np.unique(sanity_check[:,1], return_counts=True)\n",
    "dict(zip(labels, counts))"
   ]
  }
 ],
 "metadata": {
  "kernelspec": {
   "display_name": "Python 3 (ipykernel)",
   "language": "python",
   "name": "python3"
  },
  "language_info": {
   "codemirror_mode": {
    "name": "ipython",
    "version": 3
   },
   "file_extension": ".py",
   "mimetype": "text/x-python",
   "name": "python",
   "nbconvert_exporter": "python",
   "pygments_lexer": "ipython3",
   "version": "3.10.10"
  }
 },
 "nbformat": 4,
 "nbformat_minor": 4
}
